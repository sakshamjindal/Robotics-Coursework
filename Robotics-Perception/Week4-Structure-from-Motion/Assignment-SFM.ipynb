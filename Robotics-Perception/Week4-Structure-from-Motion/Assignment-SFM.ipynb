{
 "cells": [
  {
   "cell_type": "code",
   "execution_count": 1,
   "metadata": {},
   "outputs": [],
   "source": [
    "%load_ext autoreload\n",
    "%autoreload 2"
   ]
  },
  {
   "cell_type": "code",
   "execution_count": 2,
   "metadata": {},
   "outputs": [],
   "source": [
    "import numpy as np\n",
    "import matplotlib.pyplot as plt\n",
    "import math\n",
    "import scipy.io as sio\n",
    "import cv2\n",
    "import matplotlib.image as mpimg\n",
    "from matplotlib import path\n",
    "from scipy.spatial.transform import Rotation \n",
    "from mpl_toolkits.mplot3d import Axes3D"
   ]
  },
  {
   "cell_type": "code",
   "execution_count": 3,
   "metadata": {},
   "outputs": [],
   "source": [
    "DATA_DIR =  \"data/data.mat\"\n",
    "\n",
    "data = sio.loadmat(DATA_DIR)['data']"
   ]
  },
  {
   "cell_type": "code",
   "execution_count": 4,
   "metadata": {},
   "outputs": [],
   "source": [
    "x1 = data['x1'][0][0]; x2 = data['x2'][0][0]\n",
    "x3 = data['x3'][0][0]; K = data['K'][0][0]\n",
    "C = data['C'][0][0]; R = data['R'][0][0]\n",
    "img1 = data['img1'][0][0].astype(np.uint8)\n",
    "img2 = data['img2'][0][0].astype(np.uint8)\n",
    "img3 = data['img3'][0][0].astype(np.uint8)"
   ]
  },
  {
   "cell_type": "markdown",
   "metadata": {},
   "source": [
    "**Estimate Fundamental Matrix**"
   ]
  },
  {
   "cell_type": "code",
   "execution_count": 17,
   "metadata": {},
   "outputs": [],
   "source": [
    "from estimate_fundamental_matrix import estimateFundamentalMatrix_RANSAC\n",
    "\n",
    "F, inliers1, inliers2 = estimateFundamentalMatrix_RANSAC(x1,x2, num_iter=4)"
   ]
  },
  {
   "cell_type": "code",
   "execution_count": 19,
   "metadata": {},
   "outputs": [],
   "source": [
    "F_, mask = cv2.findFundamentalMat(x1,x2,cv2.RANSAC)"
   ]
  },
  {
   "cell_type": "markdown",
   "metadata": {},
   "source": [
    "**Visualisation of epipoles and epipolar lines**"
   ]
  },
  {
   "cell_type": "code",
   "execution_count": null,
   "metadata": {},
   "outputs": [],
   "source": []
  },
  {
   "cell_type": "markdown",
   "metadata": {},
   "source": [
    "**Essential Matrix from Fundamental Matrix**"
   ]
  },
  {
   "cell_type": "code",
   "execution_count": 53,
   "metadata": {},
   "outputs": [],
   "source": [
    "def EssentialMatrixFromFundamentalMatrix(K1,F,K2):\n",
    "    '''\n",
    "       :param K1 : instrinsics of the first camera\n",
    "       :param K2 : intrinsic of the second camera\n",
    "       :param F: fundamental matrix\n",
    "       \n",
    "       Key Step is to ensure that singularity of the Essential Matrix. Enforce the singular va\n",
    "       \n",
    "       Returns:\n",
    "           E : Essential Matrix\n",
    "        \n",
    "    \n",
    "    \n",
    "    '''\n",
    "    E = K2.T @ F @ K1\n",
    "    U, _ ,VT = np.linalg.svd(E)\n",
    "    S = np.diag(np.array([1, 1, 0]))\n",
    "    \n",
    "    E = U @ S  @ VT\n",
    "    \n",
    "    return E"
   ]
  },
  {
   "cell_type": "code",
   "execution_count": 54,
   "metadata": {},
   "outputs": [],
   "source": [
    "E = EssentialMatrixFromFundamentalMatrix(K,F_,K)"
   ]
  },
  {
   "cell_type": "code",
   "execution_count": 55,
   "metadata": {},
   "outputs": [
    {
     "data": {
      "text/plain": [
       "array([[ 0.02369549,  0.41183026, -0.13704612],\n",
       "       [-0.23027232,  0.00581649, -0.96253342],\n",
       "       [ 0.13225622,  0.90156466,  0.03481976]])"
      ]
     },
     "execution_count": 55,
     "metadata": {},
     "output_type": "execute_result"
    }
   ],
   "source": [
    "E"
   ]
  },
  {
   "cell_type": "code",
   "execution_count": 56,
   "metadata": {},
   "outputs": [
    {
     "data": {
      "text/plain": [
       "array([[ 0.02369549,  0.41183026, -0.13704612],\n",
       "       [-0.23027232,  0.00581649, -0.96253342],\n",
       "       [ 0.13225622,  0.90156466,  0.03481976]])"
      ]
     },
     "execution_count": 56,
     "metadata": {},
     "output_type": "execute_result"
    }
   ],
   "source": [
    "E"
   ]
  },
  {
   "cell_type": "code",
   "execution_count": 58,
   "metadata": {},
   "outputs": [
    {
     "data": {
      "text/plain": [
       "1.414213562373095"
      ]
     },
     "execution_count": 58,
     "metadata": {},
     "output_type": "execute_result"
    }
   ],
   "source": [
    "np.linalg.norm(E)"
   ]
  },
  {
   "cell_type": "code",
   "execution_count": null,
   "metadata": {},
   "outputs": [],
   "source": []
  }
 ],
 "metadata": {
  "kernelspec": {
   "display_name": "dlg",
   "language": "python",
   "name": "dlg"
  },
  "language_info": {
   "codemirror_mode": {
    "name": "ipython",
    "version": 3
   },
   "file_extension": ".py",
   "mimetype": "text/x-python",
   "name": "python",
   "nbconvert_exporter": "python",
   "pygments_lexer": "ipython3",
   "version": "3.7.0"
  }
 },
 "nbformat": 4,
 "nbformat_minor": 2
}
