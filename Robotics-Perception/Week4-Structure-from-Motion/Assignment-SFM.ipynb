{
 "cells": [
  {
   "cell_type": "code",
   "execution_count": 21,
   "metadata": {},
   "outputs": [],
   "source": [
    "import numpy as np\n",
    "import matplotlib.pyplot as plt\n",
    "import math\n",
    "import scipy.io as sio\n",
    "import cv2\n",
    "import matplotlib.image as mpimg\n",
    "from matplotlib import path\n",
    "from scipy.spatial.transform import Rotation \n",
    "from mpl_toolkits.mplot3d import Axes3D"
   ]
  },
  {
   "cell_type": "code",
   "execution_count": 22,
   "metadata": {},
   "outputs": [],
   "source": [
    "DATA_DIR =  \"data/data.mat\"\n",
    "\n",
    "data = sio.loadmat(DATA_DIR)['data']"
   ]
  },
  {
   "cell_type": "code",
   "execution_count": 23,
   "metadata": {},
   "outputs": [],
   "source": [
    "x1 = data['x1'][0][0]; x2 = data['x2'][0][0]\n",
    "x3 = data['x3'][0][0]; K = data['K'][0][0]\n",
    "C = data['C'][0][0]; R = data['R'][0][0]\n",
    "img1 = data['img1'][0][0].astype(np.uint8)\n",
    "img2 = data['img2'][0][0].astype(np.uint8)\n",
    "img3 = data['img3'][0][0].astype(np.uint8)"
   ]
  },
  {
   "cell_type": "markdown",
   "metadata": {},
   "source": [
    "**Estimate Fundamental Matrix**"
   ]
  },
  {
   "cell_type": "code",
   "execution_count": 28,
   "metadata": {},
   "outputs": [],
   "source": [
    "def vectorize_8_point(x1, x2):\n",
    "    \n",
    "    # Assume x1 = (u1,v1) and x2 =(u2,v2)\n",
    "    u1 = x1[0]; u2 = x2[0]\n",
    "    v1 = x2[1]; v2 = x2[1]\n",
    "\n",
    "    return [\n",
    "        u1*u2, u1*v2, u1, v1*u2, v1*v2, v1, u2, v2, 1\n",
    "    ]\n",
    "\n",
    "def enforce_singularity(F):\n",
    "    \n",
    "    U,S,Vd = np.linalg(F)\n",
    "    #Set the last elemet of the diagonal of S to  zero and re\n",
    "    \n",
    "    S[-1] = 0\n",
    "    \n",
    "    F = U@np.diag(S)@(Vd)\n",
    "\n",
    "    return F\n",
    "\n",
    "def eight_point_algorithm(matched_points1, matched_points2, M=None):\n",
    "    '''\n",
    "    Algorithm to compute Fundamental Matrix of Rank 2 via SVD for (x2)'F(x1) = 0 using exactly 8 correspondence points. The eight point\n",
    "    algorithm is based on paper by <insert reference here>. Usually, we need an overdetermined set of equations\n",
    "    \n",
    "    Key Steps:\n",
    "    1) Scale the data by diving each coordinate by M (maxium of the image's width and heing)\n",
    "    2) Estimate Fundamental Matrix by SVD\n",
    "    3) Enforce singularity condition of F\n",
    "    4) Unscale the fundamental Matrix\n",
    "    5) normalise the fundamental matrix\n",
    "    \n",
    "    :param matched_points1(np.array) : size(8x2) matching points in image1\n",
    "    :param matched_points2(np.array) : size(8x2) matching points in image2\n",
    "    :param M:scale factor to scale the matched points (taken here as max of width and height of the image)\n",
    "    \n",
    "    Returns: \n",
    "        Fundamental Matrix (np.array) : size(3x3) of rank2 such that\n",
    "    '''\n",
    "    \n",
    "       \n",
    "    if M is not None:\n",
    "        matched_points1 = matched_points1/M\n",
    "        matched_points2 = matched_points2/M\n",
    "    \n",
    "    A = []\n",
    "    \n",
    "    for x,y in zip(matched_points1,matched_points2):\n",
    "        A.extend(vectorize_8_point(x,y))\n",
    "        \n",
    "    A = np.array(A)\n",
    "    \n",
    "    U,S,Vd = np.linalg(A)\n",
    "    \n",
    "    # extract from the last column of Vd.T\n",
    "    F_ = Vd.T[:,-1].reshape(3,3)\n",
    "    \n",
    "    # there is a refine 'F' step here; Not sure about that. Need to study some theory here. \n",
    "    print(\"Rank of the estimated Fundamental Matrix is : {}\".format(np.linalg.matrix_rank(F_)))\n",
    "        \n",
    "    # F must be singular (remember, it is rank 2, since it isimportant for it to have a left and right nullspace, i.e. the epipoles).\n",
    "    print(\"Enforcing the Rank Constraint for the Fundamental Matrix ..\")\n",
    "    \n",
    "    F = enforce_singularity(F_)\n",
    "    print(\"Rank of the re-estimated Fundamental Matrix is : {}\".format(np.linalg.matrix_rank(F)))\n",
    "    \n",
    "    #unscale F by multiplying by the scale factor\n",
    "    T = np.diag([1/M,1/M,1])\n",
    "    F = T.T.dot(F).dot(T)\n",
    "    \n",
    "    #normalise the matrix such that ||F|| = 1\n",
    "    F = F/np.norm(F)\n",
    "    \n",
    "    return F.reshape(3,3)    "
   ]
  },
  {
   "cell_type": "code",
   "execution_count": null,
   "metadata": {},
   "outputs": [],
   "source": [
    "def estimateFundamentalMatrix_RANSAC(matched_points1, matched_points2):\n",
    "    \"\"\"\n",
    "    \n",
    "    Implemented with the help of following implementation : https://github.com/AdityaNair111/RANSAC-based-scene-geometry/blob/dcc2a5df87b71bb8cf3bd26c3ae9cc66afec522f/code/code_geo.py#L157\n",
    "    \n",
    "    Find the best Fundamental Matrix using RANSAC on potentially matching points\n",
    "    \n",
    "    :param matched_points1(np.array) : size(Nx2) matching points in image1\n",
    "    :param matched_points2(np.array) : size(Nx2) matching points in image2\n",
    "    Each row is a correspondense matching points\n",
    "    Returns:\n",
    "        - best_F: (np.array) size (3,3) representing the best fundamental matrix\n",
    "        - inlier_a: (np.array) size(M,2) representing the subset of corresponding points from image A that are inliers with respect to best_F\n",
    "        - inliers_b: (np.array) size(M,2) representing the subset of corresponding points from image B that are inliers with respect to best_F\n",
    "    \"\"\"    "
   ]
  }
 ],
 "metadata": {
  "kernelspec": {
   "display_name": "dlg",
   "language": "python",
   "name": "dlg"
  },
  "language_info": {
   "codemirror_mode": {
    "name": "ipython",
    "version": 3
   },
   "file_extension": ".py",
   "mimetype": "text/x-python",
   "name": "python",
   "nbconvert_exporter": "python",
   "pygments_lexer": "ipython3",
   "version": "3.7.0"
  }
 },
 "nbformat": 4,
 "nbformat_minor": 2
}
