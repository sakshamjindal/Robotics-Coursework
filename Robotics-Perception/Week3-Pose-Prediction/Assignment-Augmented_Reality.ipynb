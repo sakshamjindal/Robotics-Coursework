{
 "cells": [
  {
   "cell_type": "markdown",
   "metadata": {},
   "source": [
    "### Simple AR Program\n",
    "1) Compute point correspondences (2D and AR tag) <br>\n",
    "2) Estimate the pose of the camera <br>\n",
    "3) Project 3D content to the image plane"
   ]
  },
  {
   "cell_type": "code",
   "execution_count": 35,
   "metadata": {},
   "outputs": [],
   "source": [
    "import numpy as np\n",
    "import cv2\n",
    "from matplotlib import pyplot as plt\n",
    "import os\n",
    "import glob\n",
    "import skimage.io as io"
   ]
  },
  {
   "cell_type": "markdown",
   "metadata": {},
   "source": [
    "**Inputting the video frames**"
   ]
  },
  {
   "cell_type": "code",
   "execution_count": 36,
   "metadata": {},
   "outputs": [],
   "source": [
    "FRAMES_PATH = \"data/apriltagims/*\"\n",
    "\n",
    "video_frames = glob.glob(FRAMES_PATH)\n",
    "video_frame.sort()"
   ]
  },
  {
   "cell_type": "code",
   "execution_count": 37,
   "metadata": {},
   "outputs": [],
   "source": [
    "initial_points = 1.0e+02 * np.array([[1.981631469726562,3.165294189453125],\n",
    "                                    [3.786268920898438,3.424402770996094],\n",
    "                                    [4.036800842285157,1.686005859375000],\n",
    "                                    [2.333528289794922,1.491907043457031]])\n",
    "\n",
    "K = 1.0e+02 * np.array([[7.661088867187500, 0, 3.139585628047498],\n",
    "                        [0, 7.699354248046875,  2.503607131410900],\n",
    "                        [0 ,                  0,   0.010000000000000 ]])\n",
    "\n",
    "tag_width = 0.13;\n",
    "tag_height = 0.13;\n",
    "cube_depth = 0.13;\n",
    "\n",
    "corner_pts = np.array([[  tag_width/2,  tag_height/2],\n",
    "               [-tag_width/2,  tag_height/2],\n",
    "               [-tag_width/2, -tag_height/2],\n",
    "               [tag_width/2, -tag_height/2]])"
   ]
  },
  {
   "cell_type": "markdown",
   "metadata": {},
   "source": [
    "**Implement KLT Tracking**"
   ]
  },
  {
   "cell_type": "code",
   "execution_count": 38,
   "metadata": {},
   "outputs": [],
   "source": [
    "def track_corners(video_imgs, initial_pts):\n",
    "    pass"
   ]
  },
  {
   "cell_type": "code",
   "execution_count": 39,
   "metadata": {},
   "outputs": [],
   "source": [
    "corners = track_corners(video_frames, initial_points)"
   ]
  },
  {
   "cell_type": "markdown",
   "metadata": {},
   "source": [
    "**Homography Estimation**"
   ]
  },
  {
   "cell_type": "code",
   "execution_count": 40,
   "metadata": {},
   "outputs": [],
   "source": [
    "from utils import vectorize, solve_homography"
   ]
  },
  {
   "cell_type": "code",
   "execution_count": null,
   "metadata": {},
   "outputs": [],
   "source": []
  },
  {
   "cell_type": "markdown",
   "metadata": {},
   "source": [
    "**Pose Estimation (from Homography) of co-planar points**"
   ]
  },
  {
   "cell_type": "code",
   "execution_count": 41,
   "metadata": {},
   "outputs": [],
   "source": [
    "def ar_cube(H, K, proj_points):\n",
    "    '''\n",
    "    function for pose prediction of the camera, returns the\n",
    "    extrinsic of the camera given the coplanar points and intrisic \n",
    "    \n",
    "    :param H(np.array): size(3x3) homography matrix\n",
    "    :param K(np.array): size(3x3) intrinsics of camera\n",
    "    :param proj_points: size (N x 2) matrix of the projected points in pixel coordinates\n",
    "    :Return t: size (3 x 1) vector of the translation of the transformation\n",
    "    :Return R: size (3 x 3) matrix of the rotation of the transformation (orthogonal matrix)\n",
    "    '''\n",
    "    \n",
    "    pass\n",
    "    "
   ]
  },
  {
   "cell_type": "code",
   "execution_count": 42,
   "metadata": {},
   "outputs": [],
   "source": [
    "def draw_ar_cube(points, im):\n",
    "    '''\n",
    "    Uses projection equation to create images from points\n",
    "    \n",
    "    :param points(np.array): size(2x8) : projected points to connect\n",
    "    :param im(np.array): size (nxm) to render with the image\n",
    "    \n",
    "    Returns\n",
    "    im_out - (np.array): size(nxm) with the cube drawn on the image\n",
    "    '''\n",
    "    \n",
    "    pass"
   ]
  },
  {
   "cell_type": "markdown",
   "metadata": {},
   "source": [
    "**Projecting Points**"
   ]
  },
  {
   "cell_type": "code",
   "execution_count": null,
   "metadata": {},
   "outputs": [],
   "source": []
  },
  {
   "cell_type": "code",
   "execution_count": null,
   "metadata": {},
   "outputs": [],
   "source": []
  }
 ],
 "metadata": {
  "kernelspec": {
   "display_name": "dlg",
   "language": "python",
   "name": "dlg"
  },
  "language_info": {
   "codemirror_mode": {
    "name": "ipython",
    "version": 3
   },
   "file_extension": ".py",
   "mimetype": "text/x-python",
   "name": "python",
   "nbconvert_exporter": "python",
   "pygments_lexer": "ipython3",
   "version": "3.7.0"
  }
 },
 "nbformat": 4,
 "nbformat_minor": 2
}
