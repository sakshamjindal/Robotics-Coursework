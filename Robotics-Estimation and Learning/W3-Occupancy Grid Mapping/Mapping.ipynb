{
 "cells": [
  {
   "cell_type": "code",
   "execution_count": 1,
   "id": "b3c881f7",
   "metadata": {},
   "outputs": [],
   "source": [
    "%load_ext autoreload\n",
    "%autoreload 2"
   ]
  },
  {
   "cell_type": "code",
   "execution_count": 2,
   "id": "69d2c6f3",
   "metadata": {},
   "outputs": [],
   "source": [
    "import scipy.io as sio\n",
    "import numpy as np\n",
    "import matplotlib.pyplot as plt\n",
    "from bresenham import bresenham\n",
    "from numpy import matmul as mm\n",
    "from tqdm import tqdm\n",
    "import math\n",
    "import tqdm\n",
    "\n",
    "from helpers import occupancy_grid_mapping"
   ]
  },
  {
   "cell_type": "markdown",
   "id": "e636efdb",
   "metadata": {},
   "source": [
    "### Load the data"
   ]
  },
  {
   "cell_type": "code",
   "execution_count": 3,
   "id": "18714330",
   "metadata": {},
   "outputs": [],
   "source": [
    "data = sio.loadmat('data/practice.mat')\n",
    "\n",
    "pose = data['pose']\n",
    "ranges = data['ranges']\n",
    "scanAngles = data['scanAngles']\n",
    "t = data['t']"
   ]
  },
  {
   "cell_type": "code",
   "execution_count": 4,
   "id": "35c08790",
   "metadata": {},
   "outputs": [],
   "source": [
    "param = {}\n",
    "param['resol'] = 25\n",
    "param['size'] = np.array([900,900])\n",
    "param['origin'] = np.array([[700],[600]])\n",
    "param['lo_occ'],param['lo_free']=1,.5\n",
    "param['lo_max'],param['lo_min']=100,-100"
   ]
  },
  {
   "cell_type": "markdown",
   "id": "5e900669",
   "metadata": {},
   "source": [
    "### Calculating occupancy values"
   ]
  },
  {
   "cell_type": "code",
   "execution_count": 5,
   "id": "a19784a3",
   "metadata": {},
   "outputs": [
    {
     "name": "stderr",
     "output_type": "stream",
     "text": [
      "100%|██████████| 1000/1000 [02:41<00:00,  6.21it/s]\n"
     ]
    }
   ],
   "source": [
    "myMap = occupancy_grid_mapping(ranges[:, :1000], scanAngles, pose[:,:1000], param)"
   ]
  },
  {
   "cell_type": "code",
   "execution_count": 6,
   "id": "aa9e2c8c",
   "metadata": {},
   "outputs": [
    {
     "data": {
      "image/png": "[encoded data removed]",
      "text/plain": [
       "<Figure size 432x288 with 1 Axes>"
      ]
     },
     "metadata": {
      "needs_background": "light"
     },
     "output_type": "display_data"
    }
   ],
   "source": [
    "%matplotlib inline\n",
    "\n",
    "plt.imshow(myMap, cmap='gray')\n",
    "plt.show()"
   ]
  }
 ],
 "metadata": {
  "kernelspec": {
   "display_name": "Python 3",
   "language": "python",
   "name": "python3"
  },
  "language_info": {
   "codemirror_mode": {
    "name": "ipython",
    "version": 3
   },
   "file_extension": ".py",
   "mimetype": "text/x-python",
   "name": "python",
   "nbconvert_exporter": "python",
   "pygments_lexer": "ipython3",
   "version": "3.8.5"
  }
 },
 "nbformat": 4,
 "nbformat_minor": 5
}
