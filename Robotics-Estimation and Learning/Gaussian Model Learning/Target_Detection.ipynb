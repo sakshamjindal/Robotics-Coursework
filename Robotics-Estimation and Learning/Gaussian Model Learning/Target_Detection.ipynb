{
 "cells": [
  {
   "cell_type": "code",
   "execution_count": null,
   "metadata": {},
   "outputs": [],
   "source": [
    "import scipy.io as sio\n",
    "import numpy as np\n",
    "import matplotlib.pyplot as plt\n",
    "from numpy import matmul as mm\n",
    "import math\n",
    "from scipy.linalg import cho_factor,cho_solve\n",
    "\n",
    "train6 = sio.loadmat('training6.mat')\n",
    "sol6 = sio.loadmat('solution6.mat')"
   ]
  }
 ],
 "metadata": {
  "kernelspec": {
   "display_name": "Python 3",
   "language": "python",
   "name": "python3"
  },
  "language_info": {
   "codemirror_mode": {
    "name": "ipython",
    "version": 3
   },
   "file_extension": ".py",
   "mimetype": "text/x-python",
   "name": "python",
   "nbconvert_exporter": "python",
   "pygments_lexer": "ipython3",
   "version": "3.8.5"
  }
 },
 "nbformat": 4,
 "nbformat_minor": 4
}
